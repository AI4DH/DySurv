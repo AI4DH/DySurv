{
 "cells": [
  {
   "cell_type": "code",
   "execution_count": null,
   "id": "d99df94e",
   "metadata": {},
   "outputs": [],
   "source": [
    "APACHE\tSOFA\tDySurv\n",
    "27\t22.3\t51.3\n",
    "31.8\t30.9\t54\n",
    "32.4\t31\t52.9\n",
    "34.9\t32.7\t55.3\n",
    "30.4\t28.1\t56.2"
   ]
  }
 ],
 "metadata": {
  "kernelspec": {
   "display_name": "Python 3 (ipykernel)",
   "language": "python",
   "name": "python3"
  },
  "language_info": {
   "codemirror_mode": {
    "name": "ipython",
    "version": 3
   },
   "file_extension": ".py",
   "mimetype": "text/x-python",
   "name": "python",
   "nbconvert_exporter": "python",
   "pygments_lexer": "ipython3",
   "version": "3.8.13"
  }
 },
 "nbformat": 4,
 "nbformat_minor": 5
}
